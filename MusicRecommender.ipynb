{
 "cells": [
  {
   "cell_type": "code",
   "execution_count": 56,
   "id": "15acc575-454e-4217-b3cb-dfcc2384181e",
   "metadata": {},
   "outputs": [],
   "source": [
    "import pandas as pd\n",
    "from sklearn.model_selection import train_test_split\n",
    "from sklearn.tree import DecisionTreeClassifier\n",
    "from sklearn.metrics import accuracy_score\n",
    "from sklearn import tree\n",
    "\n",
    "data_set = pd.read_csv(\"music.csv\")\n",
    "x = data_set.drop(columns = 'genre')\n",
    "y = data_set[\"genre\"]\n",
    "\n",
    "x_train, y_train, x_test,y_test = train_test_split(x,y,test_size = 0.2)\n",
    "\n",
    "model = DecisionTreeClassifier()\n",
    "model.fit(x_train,x_test)\n",
    "prediction = model.predict(y_train)\n",
    "score = accuracy_score(prediction,y_test)\n",
    "\n",
    "tree.export_graphviz(model,\n",
    "    out_file = \"tree.dot\",\n",
    "    label = \"all\",\n",
    "    rounded = True,\n",
    "    filled = True,\n",
    "    class_names = sorted(y.unique()),\n",
    "    feature_names = [\"Age\",\"Gender\"]\n",
    ")\n"
   ]
  }
 ],
 "metadata": {
  "kernelspec": {
   "display_name": "Python 3 (ipykernel)",
   "language": "python",
   "name": "python3"
  },
  "language_info": {
   "codemirror_mode": {
    "name": "ipython",
    "version": 3
   },
   "file_extension": ".py",
   "mimetype": "text/x-python",
   "name": "python",
   "nbconvert_exporter": "python",
   "pygments_lexer": "ipython3",
   "version": "3.11.8"
  }
 },
 "nbformat": 4,
 "nbformat_minor": 5
}
